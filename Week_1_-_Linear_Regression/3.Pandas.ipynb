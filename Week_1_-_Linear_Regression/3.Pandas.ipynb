{
 "cells": [
  {
   "cell_type": "markdown",
   "metadata": {},
   "source": [
    "# Pandas\n",
    "\n",
    "A Python library for data manipulation and analysis. It offers data structures and operations specifically for data. Most Machine Learning Libraries (including SciKitLearn, Keros, TensorFlow) are optimised to work with Pandas objects.\n",
    "\n",
    "The [Pandas documentation](https://pandas.pydata.org/docs/user_guide/10min.html) is very user friendly."
   ]
  },
  {
   "cell_type": "markdown",
   "metadata": {},
   "source": [
    "#### DataFrame\n",
    "\n",
    "A two-dimensional data structure that holds data in a Numpy array and has the extra functionality of numbered rows and column labels."
   ]
  },
  {
   "cell_type": "code",
   "execution_count": 1,
   "metadata": {},
   "outputs": [],
   "source": [
    "# importing Numpy & Pandas libraries\n",
    "import numpy as np\n",
    "import pandas as pd"
   ]
  },
  {
   "cell_type": "markdown",
   "metadata": {},
   "source": [
    "| Feature | List | NPArray | Dataframe |\n",
    "| ------ | -----: | -----: | -----: |\n",
    "| Builtin | Y | N | N |\n",
    "| Multiple data types | Y | N | N |\n",
    "| Multiple dimensions | N | Y | Y |\n",
    "| Arithmetic Operations | N | Y | Y |\n",
    "| Process intensive | Y | N | N |\n",
    "| Optimised for ML | N | Y | Y |\n",
    "| Lables | N | N | Y |"
   ]
  },
  {
   "cell_type": "code",
   "execution_count": 2,
   "metadata": {},
   "outputs": [
    {
     "name": "stdout",
     "output_type": "stream",
     "text": [
      "                 Date & Time  List 1  List 2\n",
      "0 2025-05-13 04:02:51.765039       0       9\n",
      "1 2025-05-13 04:02:51.765039       1       8\n",
      "2 2025-05-13 04:02:51.765039       2       7\n",
      "3 2025-05-13 04:02:51.765039       3       6\n",
      "4 2025-05-13 04:02:51.765039       4       5\n",
      "5 2025-05-13 04:02:51.765039       5       4\n",
      "6 2025-05-13 04:02:51.765039       6       3\n",
      "7 2025-05-13 04:02:51.765039       7       2\n",
      "8 2025-05-13 04:02:51.765039       8       1\n",
      "9 2025-05-13 04:02:51.765039       9       0\n"
     ]
    }
   ],
   "source": [
    "# Create 2 lists\n",
    "list_1 = [0, 1, 2, 3, 4, 5, 6, 7, 8, 9]\n",
    "list_2 = [9, 8, 7, 6, 5, 4, 3, 2, 1, 0]\n",
    "dataframe = pd.DataFrame(\n",
    "    {\n",
    "        \"Date & Time\": pd.Timestamp.now(),\n",
    "        \"List 1\": list_1,\n",
    "        \"List 2\": list_2,\n",
    "    }\n",
    ")\n",
    "print(dataframe)\n"
   ]
  },
  {
   "cell_type": "markdown",
   "metadata": {},
   "source": [
    "#### View the data"
   ]
  },
  {
   "cell_type": "code",
   "execution_count": 3,
   "metadata": {},
   "outputs": [
    {
     "name": "stdout",
     "output_type": "stream",
     "text": [
      "Date & Time    datetime64[us]\n",
      "List 1                  int64\n",
      "List 2                  int64\n",
      "dtype: object\n"
     ]
    }
   ],
   "source": [
    "# Print the data types for each column\n",
    "dtypes = dataframe.dtypes\n",
    "print(dtypes)"
   ]
  },
  {
   "cell_type": "code",
   "execution_count": 4,
   "metadata": {},
   "outputs": [
    {
     "name": "stdout",
     "output_type": "stream",
     "text": [
      "                 Date & Time  List 1  List 2\n",
      "0 2025-05-13 04:02:51.765039       0       9\n",
      "1 2025-05-13 04:02:51.765039       1       8\n",
      "2 2025-05-13 04:02:51.765039       2       7\n",
      "3 2025-05-13 04:02:51.765039       3       6\n",
      "4 2025-05-13 04:02:51.765039       4       5\n"
     ]
    }
   ],
   "source": [
    "# Print first 5 rows of the dataframe\n",
    "print(dataframe.head())"
   ]
  },
  {
   "cell_type": "code",
   "execution_count": 5,
   "metadata": {},
   "outputs": [
    {
     "name": "stdout",
     "output_type": "stream",
     "text": [
      "                 Date & Time  List 1  List 2\n",
      "5 2025-05-13 04:02:51.765039       5       4\n",
      "6 2025-05-13 04:02:51.765039       6       3\n",
      "7 2025-05-13 04:02:51.765039       7       2\n",
      "8 2025-05-13 04:02:51.765039       8       1\n",
      "9 2025-05-13 04:02:51.765039       9       0\n"
     ]
    }
   ],
   "source": [
    "# Print last 5 rows of the dataframe\n",
    "print(dataframe.tail())"
   ]
  },
  {
   "cell_type": "code",
   "execution_count": 6,
   "metadata": {},
   "outputs": [
    {
     "name": "stdout",
     "output_type": "stream",
     "text": [
      "                      Date & Time    List 1    List 2\n",
      "count                          10  10.00000  10.00000\n",
      "mean   2025-05-13 04:02:51.765039   4.50000   4.50000\n",
      "min    2025-05-13 04:02:51.765039   0.00000   0.00000\n",
      "25%    2025-05-13 04:02:51.765039   2.25000   2.25000\n",
      "50%    2025-05-13 04:02:51.765039   4.50000   4.50000\n",
      "75%    2025-05-13 04:02:51.765039   6.75000   6.75000\n",
      "max    2025-05-13 04:02:51.765039   9.00000   9.00000\n",
      "std                           NaN   3.02765   3.02765\n"
     ]
    }
   ],
   "source": [
    "# Print quick statistics of the dataframe\n",
    "print(dataframe.describe())"
   ]
  },
  {
   "cell_type": "code",
   "execution_count": 7,
   "metadata": {},
   "outputs": [
    {
     "name": "stdout",
     "output_type": "stream",
     "text": [
      "(10, 3)\n"
     ]
    }
   ],
   "source": [
    "# Print the shape of the dataframe\n",
    "shape = dataframe.shape\n",
    "print(shape)"
   ]
  },
  {
   "cell_type": "code",
   "execution_count": 9,
   "metadata": {},
   "outputs": [
    {
     "name": "stdout",
     "output_type": "stream",
     "text": [
      "2\n"
     ]
    }
   ],
   "source": [
    "# Print the number of dimensions of the dataframe\n",
    "dimensions = dataframe.ndim\n",
    "print(dimensions)"
   ]
  },
  {
   "cell_type": "code",
   "execution_count": 10,
   "metadata": {},
   "outputs": [
    {
     "name": "stdout",
     "output_type": "stream",
     "text": [
      "30\n"
     ]
    }
   ],
   "source": [
    "# Print the total number of elements in the dataframe\n",
    "size = dataframe.size\n",
    "print(size) "
   ]
  },
  {
   "cell_type": "code",
   "execution_count": 11,
   "metadata": {},
   "outputs": [
    {
     "name": "stdout",
     "output_type": "stream",
     "text": [
      "10\n"
     ]
    }
   ],
   "source": [
    "# Print the number of rows in the dataframe\n",
    "rows = len(dataframe)\n",
    "print(rows) "
   ]
  },
  {
   "cell_type": "code",
   "execution_count": 12,
   "metadata": {},
   "outputs": [
    {
     "name": "stdout",
     "output_type": "stream",
     "text": [
      "3\n"
     ]
    }
   ],
   "source": [
    "# Print the number of columns in the dataframe\n",
    "columns = len(dataframe.columns)\n",
    "print(columns)  "
   ]
  }
 ],
 "metadata": {
  "kernelspec": {
   "display_name": "Python 3",
   "language": "python",
   "name": "python3"
  },
  "language_info": {
   "codemirror_mode": {
    "name": "ipython",
    "version": 3
   },
   "file_extension": ".py",
   "mimetype": "text/x-python",
   "name": "python",
   "nbconvert_exporter": "python",
   "pygments_lexer": "ipython3",
   "version": "3.12.1"
  }
 },
 "nbformat": 4,
 "nbformat_minor": 2
}
