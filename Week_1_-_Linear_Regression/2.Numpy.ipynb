{
 "cells": [
  {
   "cell_type": "markdown",
   "metadata": {},
   "source": [
    "# Numpy\n",
    "A Python library used for working with arrays. In Python, we use the list for the array processor intensive. A NumPy array is a powerful N-dimensional array object. It provides an array object much faster than inbuilt Python lists.\n",
    "\n",
    "The [Numpy Documentation](https://numpy.org/doc/2.2/user/absolute_beginners.html#) is very user friendly."
   ]
  },
  {
   "cell_type": "code",
   "execution_count": 2,
   "metadata": {},
   "outputs": [],
   "source": [
    "# importing Numpy library\n",
    "import numpy as np"
   ]
  },
  {
   "cell_type": "markdown",
   "metadata": {},
   "source": [
    "| Feature | List | NPArray |\n",
    "| ------ | -----: | -----: |\n",
    "| Builtin | Y | N |\n",
    "| Multiple data types | Y | N |\n",
    "| Multiple dimensions | N | Y |\n",
    "| Arithmetic Operations | N | Y |\n",
    "| Process intensive | Y | N |\n",
    "| Optimised for ML | N | Y |"
   ]
  },
  {
   "cell_type": "code",
   "execution_count": 3,
   "metadata": {},
   "outputs": [
    {
     "name": "stdout",
     "output_type": "stream",
     "text": [
      "List in python :\n",
      "[0, 1, 2, 3, 4, 5, 6, 7, 8, 9]\n",
      "\n",
      "Numpy Array in python :\n",
      "[0 1 2 3 4 5 6 7 8 9]\n"
     ]
    }
   ],
   "source": [
    "# create a list\n",
    "list_1 = [0, 1, 2, 3, 4, 5, 6, 7, 8, 9]\n",
    "\n",
    "# creating numpy array\n",
    "sample_array_1 = np.array(list_1)\n",
    "\n",
    "print(f\"List in python :\\n{list_1}\\n\")\n",
    "\n",
    "print(f\"Numpy Array in python :\\n{sample_array_1}\")"
   ]
  },
  {
   "cell_type": "code",
   "execution_count": 4,
   "metadata": {},
   "outputs": [
    {
     "name": "stdout",
     "output_type": "stream",
     "text": [
      "List in python :\n",
      "[0, 1, 2, 3, 4, 5, 6, 7, 8, 9]\n",
      "\n",
      "List_2 in python :\n",
      "[9, 8, 7, 6, 5, 4, 3, 2, 1, 0]\n",
      "\n",
      "2:10 Numpy Multi-dimensional Array in Python :\n",
      "[[0 1 2 3 4 5 6 7 8 9]\n",
      " [9 8 7 6 5 4 3 2 1 0]]\n",
      "\n",
      "10:2 Numpy Multi-dimensional Array in Python :\n",
      "[[0 9]\n",
      " [1 8]\n",
      " [2 7]\n",
      " [3 6]\n",
      " [4 5]\n",
      " [5 4]\n",
      " [6 3]\n",
      " [7 2]\n",
      " [8 1]\n",
      " [9 0]]\n",
      "\n"
     ]
    }
   ],
   "source": [
    "# create a second list\n",
    "list_2 = [9, 8, 7, 6, 5, 4, 3, 2, 1, 0]\n",
    "sample_array_2 = np.array(list_2)\n",
    "# creating numpy array\n",
    "sample_array_3 = np.array([list_1, list_2])\n",
    "\n",
    "sample_array_4 = np.column_stack((sample_array_1,sample_array_2))\n",
    "\n",
    "print(f\"List in python :\\n{list_1}\\n\")\n",
    "\n",
    "print(f\"List_2 in python :\\n{list_2}\\n\")\n",
    "\n",
    "print(f\"2:10 Numpy Multi-dimensional Array in Python :\\n{sample_array_3}\\n\")\n",
    "print(f\"10:2 Numpy Multi-dimensional Array in Python :\\n{sample_array_4}\\n\")"
   ]
  },
  {
   "cell_type": "markdown",
   "metadata": {},
   "source": [
    "#### Array attributes\n",
    "\n",
    "ndim, shape, size, and dtype are attributes of an Numpy array."
   ]
  },
  {
   "cell_type": "code",
   "execution_count": 5,
   "metadata": {},
   "outputs": [
    {
     "name": "stdout",
     "output_type": "stream",
     "text": [
      "Number of dimensions 1: 1\n",
      "Number of dimensions 2: 1\n",
      "Number of dimensions 3: 2\n",
      "Number of dimensions 4: 2\n"
     ]
    }
   ],
   "source": [
    "# An integer that tells us how many dimensions the array have.\n",
    "print(f\"Number of dimensions 1: {sample_array_1.ndim}\")\n",
    "print(f\"Number of dimensions 2: {sample_array_2.ndim}\")\n",
    "print(f\"Number of dimensions 3: {sample_array_3.ndim}\")\n",
    "print(f\"Number of dimensions 4: {sample_array_4.ndim}\")"
   ]
  },
  {
   "cell_type": "code",
   "execution_count": 8,
   "metadata": {},
   "outputs": [
    {
     "name": "stdout",
     "output_type": "stream",
     "text": [
      "Shape of array 1: (10,)\n",
      "Shape of array 2: (10,)\n",
      "Shape of array 3: (2, 10)\n",
      "Shape of array 4: (10, 2)\n"
     ]
    }
   ],
   "source": [
    "# A tuple of non-negative integers that specify the number of\n",
    "# elements along each dimension called the shape.\n",
    "print(f\"Shape of array 1: {sample_array_1.shape}\")\n",
    "print(f\"Shape of array 2: {sample_array_2.shape}\")\n",
    "print(f\"Shape of array 3: {sample_array_3.shape}\")\n",
    "print(f\"Shape of array 4: {sample_array_4.shape}\")"
   ]
  },
  {
   "cell_type": "code",
   "execution_count": 7,
   "metadata": {},
   "outputs": [
    {
     "name": "stdout",
     "output_type": "stream",
     "text": [
      "Data type of array 1: int64\n",
      "Data type of array 2: int64\n",
      "Data type of array 3: int64\n",
      "Data type of array 4: int64\n"
     ]
    }
   ],
   "source": [
    "# An object describing the type of the elements in the array.\n",
    "print(f\"Data type of array 1: {sample_array_1.dtype}\")\n",
    "print(f\"Data type of array 2: {sample_array_2.dtype}\")\n",
    "print(f\"Data type of array 3: {sample_array_3.dtype}\")\n",
    "print(f\"Data type of array 4: {sample_array_4.dtype}\")"
   ]
  },
  {
   "cell_type": "code",
   "execution_count": 6,
   "metadata": {},
   "outputs": [
    {
     "name": "stdout",
     "output_type": "stream",
     "text": [
      "Size of array 1: 10\n",
      "Size of array 2: 10\n",
      "Size of array 3: 20\n",
      "Size of array 4: 20\n"
     ]
    }
   ],
   "source": [
    "# The fixed, total number of elements in array\n",
    "print(f\"Size of array 1: {sample_array_1.size}\")\n",
    "print(f\"Size of array 2: {sample_array_2.size}\")\n",
    "print(f\"Size of array 3: {sample_array_3.size}\")\n",
    "print(f\"Size of array 4: {sample_array_4.size}\")    "
   ]
  },
  {
   "cell_type": "markdown",
   "metadata": {},
   "source": [
    "#### Reshapping an Array\n",
    "\n",
    "Reshaping will give a new shape to an array without changing the data. Just remember that when you use the reshape method, the array you want to produce needs to have the same number of elements as the original array. If you start with an array with a size of 10, your new array also has a total of 10 elements."
   ]
  },
  {
   "cell_type": "code",
   "execution_count": null,
   "metadata": {},
   "outputs": [],
   "source": [
    "#Rehape the array\n",
    "print(f\"Array 1:\\n{sample_array_1}\\n\")\n",
    "reshape = sample_array_1.reshape(2,5) # 2*5 = size of array\n",
    "print(f\"Reshaped array:\\n{reshape}\")"
   ]
  },
  {
   "cell_type": "code",
   "execution_count": null,
   "metadata": {},
   "outputs": [],
   "source": [
    "# Reshape the array to 2D array from a 1D array with 1 row and 10 columns\n",
    "print(f\"Array 1:\\n{sample_array_1}\\n\")\n",
    "reshape = sample_array_1.reshape(1,10)\n",
    "print(f\"Reshaped array:\\n{reshape}\")"
   ]
  },
  {
   "cell_type": "code",
   "execution_count": null,
   "metadata": {},
   "outputs": [],
   "source": [
    "# Reshape the array to a 1D array from a 2D array with 10 rows and 1 column\n",
    "print(f\"Reshaped array:\\n{reshape}\\n\")\n",
    "flatten = reshape.flatten()\n",
    "print(f\"Flattened array:\\n{flatten}\")"
   ]
  }
 ],
 "metadata": {
  "kernelspec": {
   "display_name": "Python 3",
   "language": "python",
   "name": "python3"
  },
  "language_info": {
   "codemirror_mode": {
    "name": "ipython",
    "version": 3
   },
   "file_extension": ".py",
   "mimetype": "text/x-python",
   "name": "python",
   "nbconvert_exporter": "python",
   "pygments_lexer": "ipython3",
   "version": "3.12.1"
  }
 },
 "nbformat": 4,
 "nbformat_minor": 2
}
